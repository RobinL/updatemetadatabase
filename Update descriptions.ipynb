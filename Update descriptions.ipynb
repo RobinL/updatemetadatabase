{
 "metadata": {
  "name": ""
 },
 "nbformat": 3,
 "nbformat_minor": 0,
 "worksheets": [
  {
   "cells": [
    {
     "cell_type": "markdown",
     "metadata": {},
     "source": [
      "Aim:\n",
      "\n",
      "Some descriptions in the meta database are currently linked to many variables\n",
      "\n",
      "This is desirable in the case where we have a 'group of variables' (usually 94) with various suffixes\n",
      "\n",
      "However, in all other cases it is undesirable because a change to a single description will affect the description for multiple variables.  The edit may only be relevant to one of these variables.\n",
      "\n",
      "This script detects the one to many relations between descriptions and variables and eliminates them\n",
      "\n",
      "It also detects and deletes descriptions which are not connected to any variables and are therefore obsolete"
     ]
    },
    {
     "cell_type": "markdown",
     "metadata": {},
     "source": [
      "Each unique combnation of prefix and basename wants a single unique description\n",
      "\n",
      "(1)  Check that there aren't combiantions of prefix and basename with more than one description\n",
      "\n",
      "(2)  Make a table of unique combinations of prefix and basename and description\n",
      "\n",
      "(3)  Delete all data in tblDescriptionGroups\n",
      "\n",
      "(3)  GO through each unique combination of prefix and basename:\n",
      "\n",
      "  (a)Delete current descriptionid\n",
      "  \n",
      "  (b)Add new description to\n",
      "  \n",
      "  (c)Update tblVariables\n",
      "  "
     ]
    },
    {
     "cell_type": "code",
     "collapsed": false,
     "input": [
      "#Make a copy of the database so if we mess it up it doesn't matter\n",
      "import shutil\n",
      "import os\n",
      "\n",
      "src =r\"bu/metadatabase.mdb\"\n",
      "dst = os.path.join(os.getcwd(),r\"metadatabase.mdb\")\n",
      "shutil.copy(src, dst)"
     ],
     "language": "python",
     "metadata": {},
     "outputs": [
      {
       "metadata": {},
       "output_type": "pyout",
       "prompt_number": 43,
       "text": [
        "'C:\\\\Users\\\\Robin-Laptop\\\\Documents\\\\IPython Notebooks\\\\updatemetadatabase\\\\metadatabase.mdb'"
       ]
      }
     ],
     "prompt_number": 43
    },
    {
     "cell_type": "code",
     "collapsed": false,
     "input": [
      "#pyodbc will allow us to connect to a .mdb databse\n",
      "import pyodbc"
     ],
     "language": "python",
     "metadata": {},
     "outputs": [],
     "prompt_number": 44
    },
    {
     "cell_type": "code",
     "collapsed": false,
     "input": [
      "MDB = dst\n",
      "DRV = '{Microsoft Access Driver (*.mdb, *.accdb)}'\n",
      "\n",
      "con = pyodbc.connect('DRIVER=%s;DBQ=%s;' % (DRV,MDB))\n",
      "cur = con.cursor()"
     ],
     "language": "python",
     "metadata": {},
     "outputs": [],
     "prompt_number": 45
    },
    {
     "cell_type": "code",
     "collapsed": false,
     "input": [
      "#Get rid of any 'orphaned' descriptions - i.e. ones which aren't linked to any variables.  \n",
      "\n",
      "SQL1 = \"\"\"Select id from tblDescriptionGroups \n",
      "where id not in \n",
      "(select GroupDescriptionID \n",
      "from tblVariables \n",
      "where GroupDescriptionID is not null)\n",
      "\"\"\"\n",
      "\n",
      "records = cur.execute(SQL1).fetchall()\n",
      "print(records[0])\n",
      "\n",
      "SQL2 = \"\"\"\n",
      "delete from tblDescriptiongroups \n",
      "where id not in \n",
      "(select GroupDescriptionID \n",
      "from tblVariables \n",
      "where GroupDescriptionID is not null)\n",
      "\"\"\"\n",
      "\n",
      "cur.execute(SQL2)"
     ],
     "language": "python",
     "metadata": {},
     "outputs": [
      {
       "output_type": "stream",
       "stream": "stdout",
       "text": [
        "(98, )\n"
       ]
      },
      {
       "metadata": {},
       "output_type": "pyout",
       "prompt_number": 46,
       "text": [
        "<pyodbc.Cursor at 0x4159f90>"
       ]
      }
     ],
     "prompt_number": 46
    },
    {
     "cell_type": "code",
     "collapsed": false,
     "input": [
      "\n",
      "import pandas as pd\n",
      "from pandas import DataFrame, Series\n",
      "import pandas.io.sql as sql\n",
      "\n",
      "pd.set_option('display.height', 500)\n",
      "pd.set_option('display.max_rows', 500)\n",
      "\n",
      "variables = sql.read_frame('select * from tblVariables', con)\n",
      "descriptions = sql.read_frame('select * from tblDescriptionGroups', con)"
     ],
     "language": "python",
     "metadata": {},
     "outputs": [],
     "prompt_number": 47
    },
    {
     "cell_type": "code",
     "collapsed": false,
     "input": [
      "#Make a table of unique combinations of prefix and basename and description\n",
      "variableswithdescriptions = variables.merge(descriptions, left_on=\"GroupDescriptionID\", right_on=\"ID\", how=\"left\")\n",
      "variableswithdescriptions.head()"
     ],
     "language": "python",
     "metadata": {},
     "outputs": [
      {
       "html": [
        "<div style=\"max-height:1000px;max-width:1500px;overflow:auto;\">\n",
        "<table border=\"1\" class=\"dataframe\">\n",
        "  <thead>\n",
        "    <tr style=\"text-align: right;\">\n",
        "      <th></th>\n",
        "      <th>ID_x</th>\n",
        "      <th>OriginalORSName</th>\n",
        "      <th>BaseName</th>\n",
        "      <th>FinalName</th>\n",
        "      <th>PrefixID</th>\n",
        "      <th>Suffix</th>\n",
        "      <th>SuffixCode</th>\n",
        "      <th>ORSDescription</th>\n",
        "      <th>GroupDescriptionID</th>\n",
        "      <th>Issues</th>\n",
        "      <th>InORSRawDataset</th>\n",
        "      <th>ID_y</th>\n",
        "      <th>Description</th>\n",
        "    </tr>\n",
        "  </thead>\n",
        "  <tbody>\n",
        "    <tr>\n",
        "      <th>0</th>\n",
        "      <td> 1</td>\n",
        "      <td>      unique_id</td>\n",
        "      <td>      unique_id</td>\n",
        "      <td>      unique_id</td>\n",
        "      <td> 14</td>\n",
        "      <td> None</td>\n",
        "      <td> None</td>\n",
        "      <td>          None</td>\n",
        "      <td> 1</td>\n",
        "      <td> The unique IDs provided to us (in the UNIQUE f...</td>\n",
        "      <td> False</td>\n",
        "      <td> 1</td>\n",
        "      <td> Unique_id is a unique identifier for this reco...</td>\n",
        "    </tr>\n",
        "    <tr>\n",
        "      <th>1</th>\n",
        "      <td> 2</td>\n",
        "      <td>         UNIQUE</td>\n",
        "      <td>         UNIQUE</td>\n",
        "      <td>         UNIQUE</td>\n",
        "      <td> 14</td>\n",
        "      <td> None</td>\n",
        "      <td> None</td>\n",
        "      <td>       (blank)</td>\n",
        "      <td> 2</td>\n",
        "      <td> The unique IDs provided to us aren't always un...</td>\n",
        "      <td>  True</td>\n",
        "      <td> 2</td>\n",
        "      <td>         UNIQUE as provided by ORS - Not unique!!!</td>\n",
        "    </tr>\n",
        "    <tr>\n",
        "      <th>2</th>\n",
        "      <td> 3</td>\n",
        "      <td>         ISSUED</td>\n",
        "      <td>         ISSUED</td>\n",
        "      <td>         ISSUED</td>\n",
        "      <td> 14</td>\n",
        "      <td> None</td>\n",
        "      <td> None</td>\n",
        "      <td>    Issue date</td>\n",
        "      <td> 3</td>\n",
        "      <td>                                              None</td>\n",
        "      <td>  True</td>\n",
        "      <td> 3</td>\n",
        "      <td>                                        Issue date</td>\n",
        "    </tr>\n",
        "    <tr>\n",
        "      <th>3</th>\n",
        "      <td> 4</td>\n",
        "      <td> SENTENCEDATETX</td>\n",
        "      <td> SENTENCEDATETX</td>\n",
        "      <td> SENTENCEDATETX</td>\n",
        "      <td> 14</td>\n",
        "      <td> None</td>\n",
        "      <td> None</td>\n",
        "      <td> Sentence date</td>\n",
        "      <td> 4</td>\n",
        "      <td>                                              None</td>\n",
        "      <td>  True</td>\n",
        "      <td> 4</td>\n",
        "      <td>                                     Sentence date</td>\n",
        "    </tr>\n",
        "    <tr>\n",
        "      <th>4</th>\n",
        "      <td> 5</td>\n",
        "      <td>     CREST_IDTX</td>\n",
        "      <td>     CREST_IDTX</td>\n",
        "      <td>     CREST_IDTX</td>\n",
        "      <td> 14</td>\n",
        "      <td> None</td>\n",
        "      <td> None</td>\n",
        "      <td> Crest case ID</td>\n",
        "      <td> 5</td>\n",
        "      <td>                                              None</td>\n",
        "      <td>  True</td>\n",
        "      <td> 5</td>\n",
        "      <td>                                     Crest case ID</td>\n",
        "    </tr>\n",
        "  </tbody>\n",
        "</table>\n",
        "</div>"
       ],
       "metadata": {},
       "output_type": "pyout",
       "prompt_number": 48,
       "text": [
        "   ID_x OriginalORSName        BaseName       FinalName  PrefixID Suffix  \\\n",
        "0     1       unique_id       unique_id       unique_id        14   None   \n",
        "1     2          UNIQUE          UNIQUE          UNIQUE        14   None   \n",
        "2     3          ISSUED          ISSUED          ISSUED        14   None   \n",
        "3     4  SENTENCEDATETX  SENTENCEDATETX  SENTENCEDATETX        14   None   \n",
        "4     5      CREST_IDTX      CREST_IDTX      CREST_IDTX        14   None   \n",
        "\n",
        "  SuffixCode ORSDescription  GroupDescriptionID  \\\n",
        "0       None           None                   1   \n",
        "1       None        (blank)                   2   \n",
        "2       None     Issue date                   3   \n",
        "3       None  Sentence date                   4   \n",
        "4       None  Crest case ID                   5   \n",
        "\n",
        "                                              Issues InORSRawDataset  ID_y  \\\n",
        "0  The unique IDs provided to us (in the UNIQUE f...           False     1   \n",
        "1  The unique IDs provided to us aren't always un...            True     2   \n",
        "2                                               None            True     3   \n",
        "3                                               None            True     4   \n",
        "4                                               None            True     5   \n",
        "\n",
        "                                         Description  \n",
        "0  Unique_id is a unique identifier for this reco...  \n",
        "1          UNIQUE as provided by ORS - Not unique!!!  \n",
        "2                                         Issue date  \n",
        "3                                      Sentence date  \n",
        "4                                      Crest case ID  "
       ]
      }
     ],
     "prompt_number": 48
    },
    {
     "cell_type": "code",
     "collapsed": false,
     "input": [
      "#Check that there aren't combiantions of prefix and basename with more than one description\n",
      "prefixbasegroups = variableswithdescriptions.groupby(['PrefixID', \"BaseName\", \"GroupDescriptionID\", \"Description\"]).size()\n",
      "prefixbasegroups = prefixbasegroups.reset_index()\n",
      "prefixbasegroups.rename(columns={0: \"numvars\"}, inplace=True)\n",
      "gdid = prefixbasegroups.groupby([\"GroupDescriptionID\"]).size()\n",
      "gdid = gdid.reset_index().rename(columns={0: \"sizenum\"})\n",
      "gdid[gdid[\"sizenum\"]>1].head()\n"
     ],
     "language": "python",
     "metadata": {},
     "outputs": [
      {
       "html": [
        "<div style=\"max-height:1000px;max-width:1500px;overflow:auto;\">\n",
        "<table border=\"1\" class=\"dataframe\">\n",
        "  <thead>\n",
        "    <tr style=\"text-align: right;\">\n",
        "      <th></th>\n",
        "      <th>GroupDescriptionID</th>\n",
        "      <th>sizenum</th>\n",
        "    </tr>\n",
        "  </thead>\n",
        "  <tbody>\n",
        "    <tr>\n",
        "      <th>10</th>\n",
        "      <td> 11</td>\n",
        "      <td> 2</td>\n",
        "    </tr>\n",
        "    <tr>\n",
        "      <th>39</th>\n",
        "      <td> 40</td>\n",
        "      <td> 2</td>\n",
        "    </tr>\n",
        "    <tr>\n",
        "      <th>42</th>\n",
        "      <td> 43</td>\n",
        "      <td> 2</td>\n",
        "    </tr>\n",
        "    <tr>\n",
        "      <th>69</th>\n",
        "      <td> 70</td>\n",
        "      <td> 3</td>\n",
        "    </tr>\n",
        "    <tr>\n",
        "      <th>70</th>\n",
        "      <td> 71</td>\n",
        "      <td> 2</td>\n",
        "    </tr>\n",
        "  </tbody>\n",
        "</table>\n",
        "</div>"
       ],
       "metadata": {},
       "output_type": "pyout",
       "prompt_number": 49,
       "text": [
        "    GroupDescriptionID  sizenum\n",
        "10                  11        2\n",
        "39                  40        2\n",
        "42                  43        2\n",
        "69                  70        3\n",
        "70                  71        2"
       ]
      }
     ],
     "prompt_number": 49
    },
    {
     "cell_type": "code",
     "collapsed": false,
     "input": [
      "#Fix the descriptions\n",
      "#Iterate through \n",
      "prefixbasegroups.head()"
     ],
     "language": "python",
     "metadata": {},
     "outputs": [
      {
       "html": [
        "<div style=\"max-height:1000px;max-width:1500px;overflow:auto;\">\n",
        "<table border=\"1\" class=\"dataframe\">\n",
        "  <thead>\n",
        "    <tr style=\"text-align: right;\">\n",
        "      <th></th>\n",
        "      <th>PrefixID</th>\n",
        "      <th>BaseName</th>\n",
        "      <th>GroupDescriptionID</th>\n",
        "      <th>Description</th>\n",
        "      <th>numvars</th>\n",
        "    </tr>\n",
        "  </thead>\n",
        "  <tbody>\n",
        "    <tr>\n",
        "      <th>0</th>\n",
        "      <td> 2</td>\n",
        "      <td>   Q1A</td>\n",
        "      <td> 161</td>\n",
        "      <td>                                   Type of offence</td>\n",
        "      <td>  1</td>\n",
        "    </tr>\n",
        "    <tr>\n",
        "      <th>1</th>\n",
        "      <td> 2</td>\n",
        "      <td> Q1ATX</td>\n",
        "      <td> 185</td>\n",
        "      <td>                                   Type of offence</td>\n",
        "      <td>  1</td>\n",
        "    </tr>\n",
        "    <tr>\n",
        "      <th>2</th>\n",
        "      <td> 2</td>\n",
        "      <td>   Q1X</td>\n",
        "      <td> 162</td>\n",
        "      <td>                                  Level of offence</td>\n",
        "      <td>  1</td>\n",
        "    </tr>\n",
        "    <tr>\n",
        "      <th>3</th>\n",
        "      <td> 2</td>\n",
        "      <td>    Q3</td>\n",
        "      <td> 163</td>\n",
        "      <td>                         Q3C: Offence seriousness </td>\n",
        "      <td> 94</td>\n",
        "    </tr>\n",
        "    <tr>\n",
        "      <th>4</th>\n",
        "      <td> 2</td>\n",
        "      <td>   Q4A</td>\n",
        "      <td> 164</td>\n",
        "      <td> Previous convictions, Did the offender have an...</td>\n",
        "      <td>  1</td>\n",
        "    </tr>\n",
        "  </tbody>\n",
        "</table>\n",
        "</div>"
       ],
       "metadata": {},
       "output_type": "pyout",
       "prompt_number": 50,
       "text": [
        "   PrefixID BaseName  GroupDescriptionID                                        Description  numvars\n",
        "0         2      Q1A                 161                                    Type of offence        1\n",
        "1         2    Q1ATX                 185                                    Type of offence        1\n",
        "2         2      Q1X                 162                                   Level of offence        1\n",
        "3         2       Q3                 163                          Q3C: Offence seriousness        94\n",
        "4         2      Q4A                 164  Previous convictions, Did the offender have an...        1"
       ]
      }
     ],
     "prompt_number": 50
    },
    {
     "cell_type": "code",
     "collapsed": false,
     "input": [
      "#Just delete everything from the descriptions table and use the above table to rewrite it!!!"
     ],
     "language": "python",
     "metadata": {},
     "outputs": [],
     "prompt_number": 35
    },
    {
     "cell_type": "code",
     "collapsed": false,
     "input": [
      "GetRidOfLinksSQL = \"\"\"\n",
      "UPDATE tblVariables\n",
      "SET groupdescriptionid = Null\n",
      "\"\"\"\n",
      "cur.execute(GetRidOfLinksSQL)\n",
      "cur.commit()\n",
      "\n",
      "DeleteSQL = \"\"\"\n",
      "delete from tblDescriptionGroups\n",
      "\"\"\"\n",
      "cur.execute(DeleteSQL)\n",
      "cur.commit()\n"
     ],
     "language": "python",
     "metadata": {},
     "outputs": [],
     "prompt_number": 51
    },
    {
     "cell_type": "code",
     "collapsed": false,
     "input": [
      "SQLUpdateDescriptionsTable = \"\"\"\n",
      "Insert into tblDescriptionGroups\n",
      "(Description)\n",
      "VALUES\n",
      "(?) \"\"\"\n",
      "\n",
      "SQLUpdateListingsTable = \"\"\"\n",
      "UPDATE tblVariables\n",
      "SET groupdescriptionid = ?\n",
      "where PrefixID\t= ? and BaseName = ?\n",
      "\"\"\"\n",
      "\n",
      "for thisRow in prefixbasegroups.iterrows():\n",
      "    cur.execute(SQLUpdateDescriptionsTable,(thisRow[1][\"Description\"],))\n",
      "    idOfRecordJustAdded = cur.execute(\"SELECT @@Identity\").fetchall()[0][0]\n",
      "    print(str(idOfRecordJustAdded) + \"|\" + str(thisRow[1][\"PrefixID\"]) + \"|\" +  thisRow[1][\"BaseName\"])\n",
      "\n",
      "    cur.execute(SQLUpdateListingsTable,(str(idOfRecordJustAdded),str(thisRow[1][\"PrefixID\"]),thisRow[1][\"BaseName\"]))\n",
      "\n",
      "cur.commit()\n"
     ],
     "language": "python",
     "metadata": {},
     "outputs": [
      {
       "output_type": "stream",
       "stream": "stdout",
       "text": [
        "228|2|Q1A\n",
        "229|2|Q1ATX\n",
        "230|2|Q1X\n",
        "231|2|Q3\n",
        "232|2|Q4A\n",
        "233|2|Q4B\n",
        "234|2|Q5\n",
        "235|2|Q5TX\n",
        "236|2|Q6"
       ]
      },
      {
       "output_type": "stream",
       "stream": "stdout",
       "text": [
        "\n",
        "237|2|Q6TX\n",
        "238|3|Q1A\n",
        "239|3|Q1APO\n",
        "240|3|Q1ATX\n",
        "241|3|Q1X\n",
        "242|3|Q3A\n",
        "243|3|Q3B"
       ]
      },
      {
       "output_type": "stream",
       "stream": "stdout",
       "text": [
        "\n",
        "244|3|Q3CA\n",
        "245|3|Q3CB\n",
        "246|3|Q3D\n",
        "247|3|Q4"
       ]
      },
      {
       "output_type": "stream",
       "stream": "stdout",
       "text": [
        "\n",
        "248|3|Q5AA\n",
        "249|3|Q5AB\n",
        "250|3|Q5AC\n",
        "251|3|Q5ACTX"
       ]
      },
      {
       "output_type": "stream",
       "stream": "stdout",
       "text": [
        "\n",
        "252|3|Q5B\n",
        "253|3|Q5BTX\n",
        "254|4|Q1A\n",
        "255|4|Q1ATX\n",
        "256|4|Q1X\n",
        "257|4|Q3A"
       ]
      },
      {
       "output_type": "stream",
       "stream": "stdout",
       "text": [
        "\n",
        "258|4|Q3B\n",
        "259|4|Q3C\n",
        "260|4|Q3D"
       ]
      },
      {
       "output_type": "stream",
       "stream": "stdout",
       "text": [
        "\n",
        "261|4|Q4\n",
        "262|4|Q5AA\n",
        "263|4|Q5AB\n",
        "264|4|Q5AC"
       ]
      },
      {
       "output_type": "stream",
       "stream": "stdout",
       "text": [
        "\n",
        "265|4|Q5ACTX\n",
        "266|4|Q5B\n",
        "267|4|Q5BTX"
       ]
      },
      {
       "output_type": "stream",
       "stream": "stdout",
       "text": [
        "\n",
        "268|5|Q1A\n",
        "269|5|Q1ATX\n",
        "270|5|Q1X\n",
        "271|5|Q3\n",
        "272|5|Q4A\n",
        "273|5|Q4B"
       ]
      },
      {
       "output_type": "stream",
       "stream": "stdout",
       "text": [
        "\n",
        "274|5|Q5\n",
        "275|5|Q5TX\n",
        "276|5|Q6\n",
        "277|5|Q6TX\n",
        "278|6|Q1A\n",
        "279|6|Q1ATX"
       ]
      },
      {
       "output_type": "stream",
       "stream": "stdout",
       "text": [
        "\n",
        "280|6|Q1DRG\n",
        "281|6|Q1X\n",
        "282|6|Q3A\n",
        "283|6|Q3B\n",
        "284|6|Q3C\n",
        "285|6|Q3D\n",
        "286|6|Q3E\n",
        "287|6|Q4AA"
       ]
      },
      {
       "output_type": "stream",
       "stream": "stdout",
       "text": [
        "\n",
        "288|6|Q4AB\n",
        "289|6|Q4AC\n",
        "290|6|Q4ACTX\n",
        "291|6|Q4B\n",
        "292|6|Q4BTX"
       ]
      },
      {
       "output_type": "stream",
       "stream": "stdout",
       "text": [
        "\n",
        "293|7|Q1A\n",
        "294|7|Q1ATX\n",
        "295|7|Q1X\n",
        "296|7|Q3\n",
        "297|7|Q4A\n",
        "298|7|Q4B\n",
        "299|7|Q5"
       ]
      },
      {
       "output_type": "stream",
       "stream": "stdout",
       "text": [
        "\n",
        "300|7|Q5TX\n",
        "301|7|Q6\n",
        "302|7|Q6TX\n",
        "303|8|Q1A\n",
        "304|8|Q1ATX\n",
        "305|8|Q1X"
       ]
      },
      {
       "output_type": "stream",
       "stream": "stdout",
       "text": [
        "\n",
        "306|8|Q3\n",
        "307|8|Q4A\n",
        "308|8|Q4B\n",
        "309|8|Q5\n",
        "310|8|Q5TX\n",
        "311|8|Q6"
       ]
      },
      {
       "output_type": "stream",
       "stream": "stdout",
       "text": [
        "\n",
        "312|8|Q6TX\n",
        "313|9|Q1A\n",
        "314|9|Q1ATX\n",
        "315|9|Q1ROB\n",
        "316|9|Q1ROBTX\n",
        "317|9|Q1X\n",
        "318|9|Q3"
       ]
      },
      {
       "output_type": "stream",
       "stream": "stdout",
       "text": [
        "\n",
        "319|9|Q4A\n",
        "320|9|Q4B\n",
        "321|9|Q5\n",
        "322|9|Q5TX\n",
        "323|9|Q6\n",
        "324|9|Q6TX"
       ]
      },
      {
       "output_type": "stream",
       "stream": "stdout",
       "text": [
        "\n",
        "325|10|Q1A\n",
        "326|10|Q1ATX\n",
        "327|10|Q1X\n",
        "328|10|Q3\n",
        "329|10|Q4A\n",
        "330|10|Q4B\n",
        "331|10|Q5\n",
        "332|10|Q5TX"
       ]
      },
      {
       "output_type": "stream",
       "stream": "stdout",
       "text": [
        "\n",
        "333|10|Q6\n",
        "334|10|Q6TX\n",
        "335|11|Q1A\n",
        "336|11|Q1ATX\n",
        "337|11|Q1X\n",
        "338|11|Q3\n",
        "339|11|Q4A"
       ]
      },
      {
       "output_type": "stream",
       "stream": "stdout",
       "text": [
        "\n",
        "340|11|Q4B\n",
        "341|11|Q5\n",
        "342|11|Q5TX\n",
        "343|11|Q6\n",
        "344|11|Q6\n",
        "345|11|Q6TX"
       ]
      },
      {
       "output_type": "stream",
       "stream": "stdout",
       "text": [
        "\n",
        "346|12|Q1\n",
        "347|12|Q1A\n",
        "348|12|Q1APO\n",
        "349|12|Q3\n",
        "350|12|Q4A\n",
        "351|12|Q4B\n",
        "352|12|Q5\n",
        "353|12|Q6"
       ]
      },
      {
       "output_type": "stream",
       "stream": "stdout",
       "text": [
        "\n",
        "354|14|ADDFACT\n",
        "355|14|ADDFACTTX\n",
        "356|14|Additional_Factors\n",
        "357|14|Agg_number"
       ]
      },
      {
       "output_type": "stream",
       "stream": "stdout",
       "text": [
        "\n",
        "358|14|Aggravating_Factors\n",
        "359|14|Amount1\n",
        "360|14|Amount1_inc_IPPs\n",
        "361|14|CASEPROCESS\n",
        "362|14|CC_CENTRE"
       ]
      },
      {
       "output_type": "stream",
       "stream": "stdout",
       "text": [
        "\n",
        "363|14|COMPANYNAMETX\n",
        "364|14|CREST_IDTX\n",
        "365|14|DOBTX\n",
        "366|14|FORENAMETX\n",
        "367|14|FORM\n",
        "368|14|FORMRECEIVEDDATETX\n",
        "369|14|Guilty_plea_factor"
       ]
      },
      {
       "output_type": "stream",
       "stream": "stdout",
       "text": [
        "\n",
        "370|14|Highest_level\n",
        "371|14|INDICTPLEAA\n",
        "372|14|INDICTPLEAA_1\n",
        "373|14|INDICTPLEAB\n",
        "374|14|INDICTPLEAB_1\n",
        "375|14|INDICTPLEAC\n",
        "376|14|INDICTPLEAC_1\n",
        "377|14|INDICTPLEAD"
       ]
      },
      {
       "output_type": "stream",
       "stream": "stdout",
       "text": [
        "\n",
        "378|14|INDICTPLEAD_1\n",
        "379|14|INDICTPLEATX\n",
        "380|14|ISSUED\n",
        "381|14|Miti_number\n",
        "382|14|Mitigating_Factors\n",
        "383|14|OFFENDERGENDER"
       ]
      },
      {
       "output_type": "stream",
       "stream": "stdout",
       "text": [
        "\n",
        "384|14|Plea\n",
        "385|14|Q2A\n",
        "386|14|Q2AAPERIODTYPE\n",
        "387|14|Q2AATX\n",
        "388|14|Q2AA_DAYS\n",
        "389|14|Q2ABPERIODTYPE\n",
        "390|14|Q2ABTX\n",
        "391|14|Q2AB_DAYS"
       ]
      },
      {
       "output_type": "stream",
       "stream": "stdout",
       "text": [
        "\n",
        "392|14|Q2ACPERIODTYPE\n",
        "393|14|Q2ACTX\n",
        "394|14|Q2AC_DAYS\n",
        "395|14|Q2ADPERIODTYPE\n",
        "396|14|Q2ADTX\n",
        "397|14|Q2AD_DAYS\n",
        "398|14|Q2AEPERIODTYPE\n",
        "399|14|Q2AETX"
       ]
      },
      {
       "output_type": "stream",
       "stream": "stdout",
       "text": [
        "\n",
        "400|14|Q2AE_DAYS\n",
        "401|14|Q2A_1\n",
        "402|14|Q2B1APERIODTYPE\n",
        "403|14|Q2B1ATX\n",
        "404|14|Q2B1A_DAYS\n",
        "405|14|Q2B1BPERIODTYPE\n",
        "406|14|Q2B1BTX"
       ]
      },
      {
       "output_type": "stream",
       "stream": "stdout",
       "text": [
        "\n",
        "407|14|Q2B1B_DAYS\n",
        "408|14|Q2B1CPERIODTYPE\n",
        "409|14|Q2B1CTX\n",
        "410|14|Q2B1C_DAYS\n",
        "411|14|Q2B2\n",
        "412|14|Q2B2APERIODTYPE\n",
        "413|14|Q2B2ATX"
       ]
      },
      {
       "output_type": "stream",
       "stream": "stdout",
       "text": [
        "\n",
        "414|14|Q2B2A_DAYS\n",
        "415|14|Q2B2BPERIODTYPE\n",
        "416|14|Q2B2BTX\n",
        "417|14|Q2B2CPERIODTYPE\n",
        "418|14|Q2B2CTX\n",
        "419|14|Q2B2C_DAYS\n",
        "420|14|Q2B2DPERIODTYPE\n",
        "421|14|Q2B2DTX"
       ]
      },
      {
       "output_type": "stream",
       "stream": "stdout",
       "text": [
        "\n",
        "422|14|Q2B2D_DAYS\n",
        "423|14|Q2B2ETX\n",
        "424|14|Q2C\n",
        "425|14|Q2CTX\n",
        "426|14|Requirements\n",
        "427|14|Result"
       ]
      },
      {
       "output_type": "stream",
       "stream": "stdout",
       "text": [
        "\n",
        "428|14|SENTENCEDATETX\n",
        "429|14|SURNAMETX\n",
        "430|14|TYPEOFOFFENCE\n",
        "431|14|Type_of_Offence\n",
        "432|14|UNIQUE\n",
        "433|14|ccssflag\n",
        "434|14|cpdAmount1\n",
        "435|14|cpdClassctn"
       ]
      },
      {
       "output_type": "stream",
       "stream": "stdout",
       "text": [
        "\n",
        "436|14|cpdCourt\n",
        "437|14|cpdCrest_ID\n",
        "438|14|cpdDob\n",
        "439|14|cpdGender\n",
        "440|14|cpdInitial\n",
        "441|14|cpdResult"
       ]
      },
      {
       "output_type": "stream",
       "stream": "stdout",
       "text": [
        "\n",
        "442|14|cpdSent_Date\n",
        "443|14|cpdSurname\n",
        "444|14|cpdUnique\n",
        "445|14|cpdage\n",
        "446|14|cpdamount1wt\n",
        "447|14|cpdcrttype\n",
        "448|14|cpdflag"
       ]
      },
      {
       "output_type": "stream",
       "stream": "stdout",
       "text": [
        "\n",
        "449|14|cpdform\n",
        "450|14|cpdguilty\n",
        "451|14|cpdmonth\n",
        "452|14|cpdsent\n",
        "453|14|cpdweekday\n",
        "454|14|cpdyear\n",
        "455|14|desc\n",
        "456|14|form_overarching"
       ]
      },
      {
       "output_type": "stream",
       "stream": "stdout",
       "text": [
        "\n",
        "457|14|frequency\n",
        "458|14|lowestscores1\n",
        "459|14|manualintervention\n",
        "460|14|offtyp\n",
        "461|14|offtypdesc\n",
        "462|14|pregp_amount1\n",
        "463|14|result\n",
        "464|14|unique_id"
       ]
      },
      {
       "output_type": "stream",
       "stream": "stdout",
       "text": [
        "\n",
        "465|15|Q1A\n",
        "466|15|Q1DRG\n",
        "467|15|Q1x\n",
        "468|15|Q3\n",
        "469|15|Q4A\n",
        "470|15|Q4B\n",
        "471|15|Q5\n",
        "472|15|Q6"
       ]
      },
      {
       "output_type": "stream",
       "stream": "stdout",
       "text": [
        "\n",
        "473|16|Q1A\n",
        "474|16|Q1ATX\n",
        "475|16|Q1X\n",
        "476|16|Q3\n",
        "477|16|Q4A\n",
        "478|16|Q4B\n",
        "479|16|Q5"
       ]
      },
      {
       "output_type": "stream",
       "stream": "stdout",
       "text": [
        "\n",
        "480|16|Q5TX\n",
        "481|16|Q6\n",
        "482|16|Q6\n",
        "483|16|Q6TX\n"
       ]
      }
     ],
     "prompt_number": 53
    },
    {
     "cell_type": "code",
     "collapsed": false,
     "input": [
      "variables = sql.read_frame('select * from tblVariables', con)\n",
      "descriptions = sql.read_frame('select * from tblDescriptionGroups', con)\n",
      "variables.head()"
     ],
     "language": "python",
     "metadata": {},
     "outputs": [
      {
       "html": [
        "<div style=\"max-height:1000px;max-width:1500px;overflow:auto;\">\n",
        "<table border=\"1\" class=\"dataframe\">\n",
        "  <thead>\n",
        "    <tr style=\"text-align: right;\">\n",
        "      <th></th>\n",
        "      <th>ID</th>\n",
        "      <th>OriginalORSName</th>\n",
        "      <th>BaseName</th>\n",
        "      <th>FinalName</th>\n",
        "      <th>PrefixID</th>\n",
        "      <th>Suffix</th>\n",
        "      <th>SuffixCode</th>\n",
        "      <th>ORSDescription</th>\n",
        "      <th>GroupDescriptionID</th>\n",
        "      <th>Issues</th>\n",
        "      <th>InORSRawDataset</th>\n",
        "    </tr>\n",
        "  </thead>\n",
        "  <tbody>\n",
        "    <tr>\n",
        "      <th>0</th>\n",
        "      <td> 1</td>\n",
        "      <td>      unique_id</td>\n",
        "      <td>      unique_id</td>\n",
        "      <td>      unique_id</td>\n",
        "      <td> 14</td>\n",
        "      <td> None</td>\n",
        "      <td> None</td>\n",
        "      <td>          None</td>\n",
        "      <td> 464</td>\n",
        "      <td> The unique IDs provided to us (in the UNIQUE f...</td>\n",
        "      <td> False</td>\n",
        "    </tr>\n",
        "    <tr>\n",
        "      <th>1</th>\n",
        "      <td> 2</td>\n",
        "      <td>         UNIQUE</td>\n",
        "      <td>         UNIQUE</td>\n",
        "      <td>         UNIQUE</td>\n",
        "      <td> 14</td>\n",
        "      <td> None</td>\n",
        "      <td> None</td>\n",
        "      <td>       (blank)</td>\n",
        "      <td> 432</td>\n",
        "      <td> The unique IDs provided to us aren't always un...</td>\n",
        "      <td>  True</td>\n",
        "    </tr>\n",
        "    <tr>\n",
        "      <th>2</th>\n",
        "      <td> 3</td>\n",
        "      <td>         ISSUED</td>\n",
        "      <td>         ISSUED</td>\n",
        "      <td>         ISSUED</td>\n",
        "      <td> 14</td>\n",
        "      <td> None</td>\n",
        "      <td> None</td>\n",
        "      <td>    Issue date</td>\n",
        "      <td> 380</td>\n",
        "      <td>                                              None</td>\n",
        "      <td>  True</td>\n",
        "    </tr>\n",
        "    <tr>\n",
        "      <th>3</th>\n",
        "      <td> 4</td>\n",
        "      <td> SENTENCEDATETX</td>\n",
        "      <td> SENTENCEDATETX</td>\n",
        "      <td> SENTENCEDATETX</td>\n",
        "      <td> 14</td>\n",
        "      <td> None</td>\n",
        "      <td> None</td>\n",
        "      <td> Sentence date</td>\n",
        "      <td> 428</td>\n",
        "      <td>                                              None</td>\n",
        "      <td>  True</td>\n",
        "    </tr>\n",
        "    <tr>\n",
        "      <th>4</th>\n",
        "      <td> 5</td>\n",
        "      <td>     CREST_IDTX</td>\n",
        "      <td>     CREST_IDTX</td>\n",
        "      <td>     CREST_IDTX</td>\n",
        "      <td> 14</td>\n",
        "      <td> None</td>\n",
        "      <td> None</td>\n",
        "      <td> Crest case ID</td>\n",
        "      <td> 364</td>\n",
        "      <td>                                              None</td>\n",
        "      <td>  True</td>\n",
        "    </tr>\n",
        "  </tbody>\n",
        "</table>\n",
        "</div>"
       ],
       "metadata": {},
       "output_type": "pyout",
       "prompt_number": 54,
       "text": [
        "   ID OriginalORSName        BaseName       FinalName  PrefixID Suffix  \\\n",
        "0   1       unique_id       unique_id       unique_id        14   None   \n",
        "1   2          UNIQUE          UNIQUE          UNIQUE        14   None   \n",
        "2   3          ISSUED          ISSUED          ISSUED        14   None   \n",
        "3   4  SENTENCEDATETX  SENTENCEDATETX  SENTENCEDATETX        14   None   \n",
        "4   5      CREST_IDTX      CREST_IDTX      CREST_IDTX        14   None   \n",
        "\n",
        "  SuffixCode ORSDescription  GroupDescriptionID  \\\n",
        "0       None           None                 464   \n",
        "1       None        (blank)                 432   \n",
        "2       None     Issue date                 380   \n",
        "3       None  Sentence date                 428   \n",
        "4       None  Crest case ID                 364   \n",
        "\n",
        "                                              Issues InORSRawDataset  \n",
        "0  The unique IDs provided to us (in the UNIQUE f...           False  \n",
        "1  The unique IDs provided to us aren't always un...            True  \n",
        "2                                               None            True  \n",
        "3                                               None            True  \n",
        "4                                               None            True  "
       ]
      }
     ],
     "prompt_number": 54
    },
    {
     "cell_type": "code",
     "collapsed": false,
     "input": [
      "descriptions.head()"
     ],
     "language": "python",
     "metadata": {},
     "outputs": [
      {
       "html": [
        "<div style=\"max-height:1000px;max-width:1500px;overflow:auto;\">\n",
        "<table border=\"1\" class=\"dataframe\">\n",
        "  <thead>\n",
        "    <tr style=\"text-align: right;\">\n",
        "      <th></th>\n",
        "      <th>ID</th>\n",
        "      <th>Description</th>\n",
        "    </tr>\n",
        "  </thead>\n",
        "  <tbody>\n",
        "    <tr>\n",
        "      <th>0</th>\n",
        "      <td> 227</td>\n",
        "      <td>           Type of offence</td>\n",
        "    </tr>\n",
        "    <tr>\n",
        "      <th>1</th>\n",
        "      <td> 228</td>\n",
        "      <td>           Type of offence</td>\n",
        "    </tr>\n",
        "    <tr>\n",
        "      <th>2</th>\n",
        "      <td> 229</td>\n",
        "      <td>           Type of offence</td>\n",
        "    </tr>\n",
        "    <tr>\n",
        "      <th>3</th>\n",
        "      <td> 230</td>\n",
        "      <td>          Level of offence</td>\n",
        "    </tr>\n",
        "    <tr>\n",
        "      <th>4</th>\n",
        "      <td> 231</td>\n",
        "      <td> Q3C: Offence seriousness </td>\n",
        "    </tr>\n",
        "  </tbody>\n",
        "</table>\n",
        "</div>"
       ],
       "metadata": {},
       "output_type": "pyout",
       "prompt_number": 55,
       "text": [
        "    ID                Description\n",
        "0  227            Type of offence\n",
        "1  228            Type of offence\n",
        "2  229            Type of offence\n",
        "3  230           Level of offence\n",
        "4  231  Q3C: Offence seriousness "
       ]
      }
     ],
     "prompt_number": 55
    },
    {
     "cell_type": "code",
     "collapsed": false,
     "input": [
      "#Make a table of unique combinations of prefix and basename and description\n",
      "variableswithdescriptions = variables.merge(descriptions, left_on=\"GroupDescriptionID\", right_on=\"ID\", how=\"left\")\n",
      "variableswithdescriptions.head()"
     ],
     "language": "python",
     "metadata": {},
     "outputs": [
      {
       "html": [
        "<div style=\"max-height:1000px;max-width:1500px;overflow:auto;\">\n",
        "<table border=\"1\" class=\"dataframe\">\n",
        "  <thead>\n",
        "    <tr style=\"text-align: right;\">\n",
        "      <th></th>\n",
        "      <th>ID_x</th>\n",
        "      <th>OriginalORSName</th>\n",
        "      <th>BaseName</th>\n",
        "      <th>FinalName</th>\n",
        "      <th>PrefixID</th>\n",
        "      <th>Suffix</th>\n",
        "      <th>SuffixCode</th>\n",
        "      <th>ORSDescription</th>\n",
        "      <th>GroupDescriptionID</th>\n",
        "      <th>Issues</th>\n",
        "      <th>InORSRawDataset</th>\n",
        "      <th>ID_y</th>\n",
        "      <th>Description</th>\n",
        "    </tr>\n",
        "  </thead>\n",
        "  <tbody>\n",
        "    <tr>\n",
        "      <th>0</th>\n",
        "      <td> 1</td>\n",
        "      <td>      unique_id</td>\n",
        "      <td>      unique_id</td>\n",
        "      <td>      unique_id</td>\n",
        "      <td> 14</td>\n",
        "      <td> None</td>\n",
        "      <td> None</td>\n",
        "      <td>          None</td>\n",
        "      <td> 464</td>\n",
        "      <td> The unique IDs provided to us (in the UNIQUE f...</td>\n",
        "      <td> False</td>\n",
        "      <td> 464</td>\n",
        "      <td> Unique_id is a unique identifier for this reco...</td>\n",
        "    </tr>\n",
        "    <tr>\n",
        "      <th>1</th>\n",
        "      <td> 2</td>\n",
        "      <td>         UNIQUE</td>\n",
        "      <td>         UNIQUE</td>\n",
        "      <td>         UNIQUE</td>\n",
        "      <td> 14</td>\n",
        "      <td> None</td>\n",
        "      <td> None</td>\n",
        "      <td>       (blank)</td>\n",
        "      <td> 432</td>\n",
        "      <td> The unique IDs provided to us aren't always un...</td>\n",
        "      <td>  True</td>\n",
        "      <td> 432</td>\n",
        "      <td>         UNIQUE as provided by ORS - Not unique!!!</td>\n",
        "    </tr>\n",
        "    <tr>\n",
        "      <th>2</th>\n",
        "      <td> 3</td>\n",
        "      <td>         ISSUED</td>\n",
        "      <td>         ISSUED</td>\n",
        "      <td>         ISSUED</td>\n",
        "      <td> 14</td>\n",
        "      <td> None</td>\n",
        "      <td> None</td>\n",
        "      <td>    Issue date</td>\n",
        "      <td> 380</td>\n",
        "      <td>                                              None</td>\n",
        "      <td>  True</td>\n",
        "      <td> 380</td>\n",
        "      <td>                                        Issue date</td>\n",
        "    </tr>\n",
        "    <tr>\n",
        "      <th>3</th>\n",
        "      <td> 4</td>\n",
        "      <td> SENTENCEDATETX</td>\n",
        "      <td> SENTENCEDATETX</td>\n",
        "      <td> SENTENCEDATETX</td>\n",
        "      <td> 14</td>\n",
        "      <td> None</td>\n",
        "      <td> None</td>\n",
        "      <td> Sentence date</td>\n",
        "      <td> 428</td>\n",
        "      <td>                                              None</td>\n",
        "      <td>  True</td>\n",
        "      <td> 428</td>\n",
        "      <td>                                     Sentence date</td>\n",
        "    </tr>\n",
        "    <tr>\n",
        "      <th>4</th>\n",
        "      <td> 5</td>\n",
        "      <td>     CREST_IDTX</td>\n",
        "      <td>     CREST_IDTX</td>\n",
        "      <td>     CREST_IDTX</td>\n",
        "      <td> 14</td>\n",
        "      <td> None</td>\n",
        "      <td> None</td>\n",
        "      <td> Crest case ID</td>\n",
        "      <td> 364</td>\n",
        "      <td>                                              None</td>\n",
        "      <td>  True</td>\n",
        "      <td> 364</td>\n",
        "      <td>                                     Crest case ID</td>\n",
        "    </tr>\n",
        "  </tbody>\n",
        "</table>\n",
        "</div>"
       ],
       "metadata": {},
       "output_type": "pyout",
       "prompt_number": 56,
       "text": [
        "   ID_x OriginalORSName        BaseName       FinalName  PrefixID Suffix  \\\n",
        "0     1       unique_id       unique_id       unique_id        14   None   \n",
        "1     2          UNIQUE          UNIQUE          UNIQUE        14   None   \n",
        "2     3          ISSUED          ISSUED          ISSUED        14   None   \n",
        "3     4  SENTENCEDATETX  SENTENCEDATETX  SENTENCEDATETX        14   None   \n",
        "4     5      CREST_IDTX      CREST_IDTX      CREST_IDTX        14   None   \n",
        "\n",
        "  SuffixCode ORSDescription  GroupDescriptionID  \\\n",
        "0       None           None                 464   \n",
        "1       None        (blank)                 432   \n",
        "2       None     Issue date                 380   \n",
        "3       None  Sentence date                 428   \n",
        "4       None  Crest case ID                 364   \n",
        "\n",
        "                                              Issues InORSRawDataset  ID_y  \\\n",
        "0  The unique IDs provided to us (in the UNIQUE f...           False   464   \n",
        "1  The unique IDs provided to us aren't always un...            True   432   \n",
        "2                                               None            True   380   \n",
        "3                                               None            True   428   \n",
        "4                                               None            True   364   \n",
        "\n",
        "                                         Description  \n",
        "0  Unique_id is a unique identifier for this reco...  \n",
        "1          UNIQUE as provided by ORS - Not unique!!!  \n",
        "2                                         Issue date  \n",
        "3                                      Sentence date  \n",
        "4                                      Crest case ID  "
       ]
      }
     ],
     "prompt_number": 56
    },
    {
     "cell_type": "code",
     "collapsed": false,
     "input": [
      "#Check that there aren't combiantions of prefix and basename with more than one description\n",
      "prefixbasegroups = variableswithdescriptions.groupby(['PrefixID', \"BaseName\", \"GroupDescriptionID\", \"Description\"]).size()\n",
      "prefixbasegroups = prefixbasegroups.reset_index()\n",
      "prefixbasegroups.rename(columns={0: \"numvars\"}, inplace=True)\n",
      "gdid = prefixbasegroups.groupby([\"GroupDescriptionID\"]).size()\n",
      "gdid = gdid.reset_index().rename(columns={0: \"sizenum\"})\n",
      "gdid[gdid[\"sizenum\"]>1].head()"
     ],
     "language": "python",
     "metadata": {},
     "outputs": [
      {
       "html": [
        "<div style=\"max-height:1000px;max-width:1500px;overflow:auto;\">\n",
        "<table border=\"1\" class=\"dataframe\">\n",
        "  <thead>\n",
        "    <tr style=\"text-align: right;\">\n",
        "      <th></th>\n",
        "      <th>GroupDescriptionID</th>\n",
        "      <th>sizenum</th>\n",
        "    </tr>\n",
        "  </thead>\n",
        "  <tbody>\n",
        "    <tr>\n",
        "      <th>233</th>\n",
        "      <td> 463</td>\n",
        "      <td> 2</td>\n",
        "    </tr>\n",
        "  </tbody>\n",
        "</table>\n",
        "</div>"
       ],
       "metadata": {},
       "output_type": "pyout",
       "prompt_number": 57,
       "text": [
        "     GroupDescriptionID  sizenum\n",
        "233                 463        2"
       ]
      }
     ],
     "prompt_number": 57
    },
    {
     "cell_type": "code",
     "collapsed": false,
     "input": [
      "variableswithdescriptions[variableswithdescriptions[\"GroupDescriptionID\"]==462]"
     ],
     "language": "python",
     "metadata": {},
     "outputs": [
      {
       "html": [
        "<div style=\"max-height:1000px;max-width:1500px;overflow:auto;\">\n",
        "<table border=\"1\" class=\"dataframe\">\n",
        "  <thead>\n",
        "    <tr style=\"text-align: right;\">\n",
        "      <th></th>\n",
        "      <th>ID_x</th>\n",
        "      <th>OriginalORSName</th>\n",
        "      <th>BaseName</th>\n",
        "      <th>FinalName</th>\n",
        "      <th>PrefixID</th>\n",
        "      <th>Suffix</th>\n",
        "      <th>SuffixCode</th>\n",
        "      <th>ORSDescription</th>\n",
        "      <th>GroupDescriptionID</th>\n",
        "      <th>Issues</th>\n",
        "      <th>InORSRawDataset</th>\n",
        "      <th>ID_y</th>\n",
        "      <th>Description</th>\n",
        "    </tr>\n",
        "  </thead>\n",
        "  <tbody>\n",
        "    <tr>\n",
        "      <th>4618</th>\n",
        "      <td> 4527</td>\n",
        "      <td> None</td>\n",
        "      <td> pregp_amount1</td>\n",
        "      <td> pregp_amount1</td>\n",
        "      <td> 14</td>\n",
        "      <td> None</td>\n",
        "      <td> None</td>\n",
        "      <td> None</td>\n",
        "      <td> 462</td>\n",
        "      <td> None</td>\n",
        "      <td> False</td>\n",
        "      <td> 462</td>\n",
        "      <td> The sentence length after an adjustment for th...</td>\n",
        "    </tr>\n",
        "  </tbody>\n",
        "</table>\n",
        "</div>"
       ],
       "metadata": {},
       "output_type": "pyout",
       "prompt_number": 58,
       "text": [
        "      ID_x OriginalORSName       BaseName      FinalName  PrefixID Suffix  \\\n",
        "4618  4527            None  pregp_amount1  pregp_amount1        14   None   \n",
        "\n",
        "     SuffixCode ORSDescription  GroupDescriptionID Issues InORSRawDataset  \\\n",
        "4618       None           None                 462   None           False   \n",
        "\n",
        "      ID_y                                        Description  \n",
        "4618   462  The sentence length after an adjustment for th...  "
       ]
      }
     ],
     "prompt_number": 58
    },
    {
     "cell_type": "code",
     "collapsed": false,
     "input": [
      "SQL2 = \"\"\"\n",
      "delete from tblDescriptiongroups \n",
      "where id not in \n",
      "(select GroupDescriptionID \n",
      "from tblVariables \n",
      "where GroupDescriptionID is not null)\n",
      "\"\"\"\n",
      "\n",
      "cur.commit()\n",
      "cur.execute(SQL2)"
     ],
     "language": "python",
     "metadata": {},
     "outputs": [
      {
       "metadata": {},
       "output_type": "pyout",
       "prompt_number": 60,
       "text": [
        "<pyodbc.Cursor at 0x4159f90>"
       ]
      }
     ],
     "prompt_number": 60
    },
    {
     "cell_type": "code",
     "collapsed": false,
     "input": [],
     "language": "python",
     "metadata": {},
     "outputs": []
    }
   ],
   "metadata": {}
  }
 ]
}