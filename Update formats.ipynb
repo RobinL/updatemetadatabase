{
 "metadata": {
  "name": ""
 },
 "nbformat": 3,
 "nbformat_minor": 0,
 "worksheets": [
  {
   "cells": [
    {
     "cell_type": "markdown",
     "metadata": {},
     "source": [
      "This program updates the information on variable formats which is contained in the meta database\n",
      "\n",
      "It takes as its input the raw text (.sas) files that are outputted by SPSS when you export the raw ORS datasets and ask it to output the SAS formats.\n",
      "\n",
      "It then interfaces with the meta database to detect which variables we have new formats for.\n",
      "\n",
      "It creates new entries for any formats it finds in the raw text (.sas) files.\n",
      "\n",
      "Finally it cleans up by removing any old formats which have been remapped to the newly created formats."
     ]
    },
    {
     "cell_type": "code",
     "collapsed": false,
     "input": [
      "#Import a python module that will allow us to interface with a Microsoft Access database \n",
      "import pyodbc"
     ],
     "language": "python",
     "metadata": {},
     "outputs": [],
     "prompt_number": 128
    },
    {
     "cell_type": "code",
     "collapsed": false,
     "input": [
      "#Read in the raw .sas file\n",
      "rawFormat = open(\"rawformat.sas\", \"r\")\n"
     ],
     "language": "python",
     "metadata": {},
     "outputs": [],
     "prompt_number": 129
    },
    {
     "cell_type": "code",
     "collapsed": false,
     "input": [
      "#Read lines into Python list (an array), and close file \n",
      "lines = rawFormat.readlines()\n",
      "lines = [line.strip() for line in lines]\n",
      "rawFormat.close()"
     ],
     "language": "python",
     "metadata": {},
     "outputs": [],
     "prompt_number": 130
    },
    {
     "cell_type": "code",
     "collapsed": false,
     "input": [
      "# Strip out the first lines of the file (until we see 'value')\n",
      "import re\n",
      "\n",
      "valuepat = re.compile(\"^value\" ,re.IGNORECASE)\n",
      "\n",
      "while True:\n",
      "    if valuepat.match(lines[0]):\n",
      "        break\n",
      "    del lines[0]\n",
      "\n",
      "#Strip out the end of the file (after we see 'proc datasets')\n",
      "endids = [i for i, line in enumerate(lines) if re.search(\"proc datasets\", line)]\n",
      "\n",
      "#Strip out any lines which are blank\n",
      "lines = lines[:endids[0]]\n",
      "lines = [line for line in lines if line]\n"
     ],
     "language": "python",
     "metadata": {},
     "outputs": [],
     "prompt_number": 131
    },
    {
     "cell_type": "code",
     "collapsed": false,
     "input": [
      "values = [line for line in lines if  valuepat.match(line)]"
     ],
     "language": "python",
     "metadata": {},
     "outputs": [],
     "prompt_number": 132
    },
    {
     "cell_type": "code",
     "collapsed": false,
     "input": [
      "values[:100]"
     ],
     "language": "python",
     "metadata": {},
     "outputs": [
      {
       "metadata": {},
       "output_type": "pyout",
       "prompt_number": 133,
       "text": [
        "['value FORM',\n",
        " 'value CC_CENTRE',\n",
        " 'value BATCH_MONTH',\n",
        " 'value ISSUED',\n",
        " 'value CASEPROCESS',\n",
        " 'value OFFENDERGENDER',\n",
        " 'value TYPEOFOFFENCE',\n",
        " 'value Q2A_1F',\n",
        " 'value Q2AAPERIODTYPE',\n",
        " 'value Q2ACPERIODTYPE_1F',\n",
        " 'value Q2ADPERIODTYPE_1F',\n",
        " 'value Q2ABPERIODTYPE',\n",
        " 'value Q2B1APERIODTYPE',\n",
        " 'value Q2B1BPERIODTYPE',\n",
        " 'value Q2B1CPERIODTYPE',\n",
        " 'value Q2B2A_1F',\n",
        " 'value Q2B2B_1F',\n",
        " 'value Q2B2C_1F',\n",
        " 'value Q2B2D_1F',\n",
        " 'value Q2B2E_1F',\n",
        " 'value Q2B2F_1F',\n",
        " 'value Q2B2G_1F',\n",
        " 'value Q2B2H_1F',\n",
        " 'value Q2B2I_1F',\n",
        " 'value Q2B2J_1F',\n",
        " 'value Q2B2K_1F',\n",
        " 'value Q2B2L_1F',\n",
        " 'value Q2B2M_1F',\n",
        " 'value Q2B2O_1F',\n",
        " 'value Q2B2P_1F',\n",
        " 'value Q2B2Q_1F',\n",
        " 'value Q2B2R_1F',\n",
        " 'value Q2B2S_1F',\n",
        " 'value Q2B2T_1F',\n",
        " 'value Q2B2U_1F',\n",
        " 'value Q2B2V_1F',\n",
        " 'value Q2B2X_1F',\n",
        " 'value Q2B2Y_1F',\n",
        " 'value Q2B2Z_1F',\n",
        " 'value Q2B2AA_1F',\n",
        " 'value Q2B2AB_1F',\n",
        " 'value Q2B2AC_1F',\n",
        " 'value Q2B2AD_1F',\n",
        " 'value Q2B2AF_1F',\n",
        " 'value Q2B2AI_1F',\n",
        " 'value Q2B2AK_1F',\n",
        " 'value Q2B2AL_1F',\n",
        " 'value Q2B2AM_1F',\n",
        " 'value Q2B2AN_1F',\n",
        " 'value Q2B2AO_1F',\n",
        " 'value Q2B2AP_1F',\n",
        " 'value Q2B2AQ_1F',\n",
        " 'value Q2B2AR_1F',\n",
        " 'value Q2B2CL_1F',\n",
        " 'value Q2B2APERIODTYPE',\n",
        " 'value Q2B2BPERIODTYPE',\n",
        " 'value Q2B2CPERIODTYPE',\n",
        " 'value Q2B2DPERIODTYPE',\n",
        " 'value Q2C',\n",
        " 'value INDICTPLEAA_1F',\n",
        " 'value INDICTPLEAWASENTERED',\n",
        " 'value INDICTPLEAB_1F',\n",
        " 'value INDICTPLEAD',\n",
        " 'value ADDFACTA',\n",
        " 'value ADDFACTB',\n",
        " 'value ADDFACTC',\n",
        " 'value ADDFACTD',\n",
        " 'value ADDFACTE',\n",
        " 'value ADDFACTF',\n",
        " 'value ADDFACTG',\n",
        " 'value ADDFACTH',\n",
        " 'value ADDFACTI',\n",
        " 'value ADDFACTJ',\n",
        " 'value ADDFACTK',\n",
        " 'value ADDFACTL',\n",
        " 'value ADDFACTM',\n",
        " 'value ADDFACTN',\n",
        " 'value ADDFACTO',\n",
        " 'value ADDFACTP',\n",
        " 'value ADDFACTQ',\n",
        " 'value ADDFACTR',\n",
        " 'value ADDFACTS',\n",
        " 'value ADDFACTT',\n",
        " 'value ADDFACTV',\n",
        " 'value ADDFACTW',\n",
        " 'value ADDFACTX',\n",
        " 'value ADDFACTY',\n",
        " 'value ADDFACTAA',\n",
        " 'value ADDFACTAB',\n",
        " 'value ADDFACTAC',\n",
        " 'value ADDFACTAE',\n",
        " 'value ADDFACTAF',\n",
        " 'value ADDFACTAH',\n",
        " 'value ADDFACTAI',\n",
        " 'value ADDFACTAJ',\n",
        " 'value ADDFACTCL',\n",
        " 'value ADDFACTCO',\n",
        " 'value ADDFACTCP',\n",
        " 'value RESULTA',\n",
        " 'value RESULTB']"
       ]
      }
     ],
     "prompt_number": 133
    },
    {
     "cell_type": "code",
     "collapsed": false,
     "input": [],
     "language": "python",
     "metadata": {},
     "outputs": []
    }
   ],
   "metadata": {}
  }
 ]
}