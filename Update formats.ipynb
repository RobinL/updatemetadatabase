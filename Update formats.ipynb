{
 "metadata": {
  "name": ""
 },
 "nbformat": 3,
 "nbformat_minor": 0,
 "worksheets": [
  {
   "cells": [
    {
     "cell_type": "markdown",
     "metadata": {},
     "source": [
      "This program updates the information on variable formats which is contained in the meta database\n",
      "\n",
      "It takes as its input the raw text (.sas) files that are outputted by SPSS when you export the raw ORS datasets and ask it to output the SAS formats.\n",
      "\n",
      "It then interfaces with the meta database to detect which variables we have new formats for.\n",
      "\n",
      "It creates new entries for any formats it finds in the raw text (.sas) files.\n",
      "\n",
      "Finally it cleans up by removing any old formats which have been remapped to the newly created formats."
     ]
    },
    {
     "cell_type": "code",
     "collapsed": false,
     "input": [
      "#Import a python module that will allow us to interface with a Microsoft Access database \n",
      "import pyodbc"
     ],
     "language": "python",
     "metadata": {},
     "outputs": [],
     "prompt_number": 9
    },
    {
     "cell_type": "code",
     "collapsed": false,
     "input": [],
     "language": "python",
     "metadata": {},
     "outputs": []
    }
   ],
   "metadata": {}
  }
 ]
}