{
 "metadata": {
  "name": ""
 },
 "nbformat": 3,
 "nbformat_minor": 0,
 "worksheets": [
  {
   "cells": [
    {
     "cell_type": "markdown",
     "metadata": {},
     "source": [
      "This program updates the format information on variable contained in the meta database\n",
      "\n",
      "It takes as its input the raw text (.sas) files that are outputted by SPSS when you export the raw ORS datasets and ask it to output the SAS formats.\n",
      "\n",
      "It then interfaces with the meta database to detect which variables we have new formats for.\n",
      "\n",
      "It creates new entries for any formats it finds in the raw text (.sas) files.\n",
      "\n",
      "Finally it cleans up by removing any old formats which have been remapped to the newly created formats."
     ]
    },
    {
     "cell_type": "code",
     "collapsed": false,
     "input": [
      "#Import a python module that will allow us to interface with a Microsoft Access database \n",
      "import pyodbc\n",
      "\n",
      "#Import the python regular expressions package, which will be used to parse the lines of the files\n",
      "import re"
     ],
     "language": "python",
     "metadata": {},
     "outputs": [],
     "prompt_number": 28
    },
    {
     "cell_type": "code",
     "collapsed": false,
     "input": [
      "#Read in the raw .sas file\n",
      "rawFormat = open(\"rawformat.sas\", \"r\")"
     ],
     "language": "python",
     "metadata": {},
     "outputs": [],
     "prompt_number": 29
    },
    {
     "cell_type": "code",
     "collapsed": false,
     "input": [
      "#Read lines into Python list (an array), and close file \n",
      "lines = rawFormat.readlines()\n",
      "lines = [line.strip() for line in lines]\n",
      "rawFormat.close()"
     ],
     "language": "python",
     "metadata": {},
     "outputs": [],
     "prompt_number": 30
    },
    {
     "cell_type": "code",
     "collapsed": false,
     "input": [
      "# Strip out the first lines of the file (until we see 'value')\n",
      "valuepat = re.compile(\"^value\" ,re.IGNORECASE)\n",
      "\n",
      "while True:\n",
      "    if valuepat.match(lines[0]):\n",
      "        break\n",
      "    del lines[0]\n",
      "\n",
      "#Strip out the end of the file (after we see 'proc datasets')\n",
      "endids = [i for i, line in enumerate(lines) if re.search(\"proc datasets\", line)]\n",
      "\n",
      "#Slice list and then strip out any lines which are blank\n",
      "lines = lines[:endids[0]]\n",
      "lines = [line for line in lines if line]"
     ],
     "language": "python",
     "metadata": {},
     "outputs": [],
     "prompt_number": 31
    },
    {
     "cell_type": "code",
     "collapsed": false,
     "input": [
      "values = [line for line in lines if  valuepat.match(line)]"
     ],
     "language": "python",
     "metadata": {},
     "outputs": [],
     "prompt_number": 32
    },
    {
     "cell_type": "code",
     "collapsed": false,
     "input": [
      "formatsdict = {}\n",
      "\n",
      "for line in lines:\n",
      "    if valuepat.match(line):\n",
      "        #Grab the variable name\n",
      "        thisvalue = re.match(\"(value\\s+)([^']*)\", line).group(2)\n",
      "        #When sas variables end in a number, an F must be appended to the format name because formats cannot end in a number.  \n",
      "        #Remove the F to get the variable name\n",
      "        if re.match(\"([^_]+)(_\\d+)(F)\", thisvalue):\n",
      "            thisvalue = re.match(\"([^_]+_\\d+)(F)\", thisvalue).group(1)    \n",
      "        formatsdict[thisvalue] = []\n",
      "    else:\n",
      "        formatsdict[thisvalue].append(line)"
     ],
     "language": "python",
     "metadata": {},
     "outputs": [],
     "prompt_number": 33
    },
    {
     "cell_type": "code",
     "collapsed": false,
     "input": [
      "#The keys contain the variables where we're giubg to remove the existng formats and replace them with the new ones\n",
      "#formatsdict.keys()\n",
      "\n",
      "#print formatsdict[\"Q2B2AC_1\"]"
     ],
     "language": "python",
     "metadata": {},
     "outputs": [],
     "prompt_number": 34
    },
    {
     "cell_type": "code",
     "collapsed": false,
     "input": [
      "#Need to find out which of the dictionaries contain exactly the same string\n",
      "\n",
      "myCounter = 0\n",
      "dataList = {}\n",
      "\n",
      "#Group formats by the ones which have the same contents\n",
      "#Also collect list of the variables which have the same contents\n",
      "for key in formatsdict.keys():\n",
      "    dataList[key] = {}\n",
      "    dataList[key][\"variables\"] = []\n",
      "    for key2 in formatsdict.keys():\n",
      "        if formatsdict[key2] == formatsdict[key]:\n",
      "            dataList[key][\"variables\"].append(key2)\n",
      "            dataList[key][\"formatlist\"] = formatsdict[key]"
     ],
     "language": "python",
     "metadata": {},
     "outputs": [],
     "prompt_number": 35
    },
    {
     "cell_type": "code",
     "collapsed": false,
     "input": [
      "#Add the whole format as a string into the dictionary\n",
      "\n",
      "for key in dataList.keys():\n",
      "    dataList[key][\"format\"] = \"\\n\".join(dataList[key][\"formatlist\"])"
     ],
     "language": "python",
     "metadata": {},
     "outputs": [],
     "prompt_number": 36
    },
    {
     "cell_type": "code",
     "collapsed": false,
     "input": [
      "import csv, pyodbc\n",
      "\n",
      "# set up some constants\n",
      "MDB = r'C:\\Users\\Office Samsung\\Documents\\IPython Notebooks\\metadatabase.mdb'\n",
      "DRV = '{Microsoft Access Driver (*.mdb, *.accdb)}'\n",
      "\n",
      "#connect to db\n",
      "con = pyodbc.connect('DRIVER=%s;DBQ=%s;' % (DRV,MDB))\n",
      "cur = con.cursor()"
     ],
     "language": "python",
     "metadata": {},
     "outputs": [],
     "prompt_number": 37
    },
    {
     "cell_type": "code",
     "collapsed": false,
     "input": [
      "#Check everything is working: run a query and get the results \n",
      "SQL = 'SELECT * FROM tblPrefix;' \n",
      "rows = cur.execute(SQL).fetchall()\n",
      "print rows[1]\n"
     ],
     "language": "python",
     "metadata": {},
     "outputs": [
      {
       "output_type": "stream",
       "stream": "stdout",
       "text": [
        "(3, u'APO', u'APO', u'APO_11', u'Assault (2011 SC guideline)', 2)\n"
       ]
      }
     ],
     "prompt_number": 41
    },
    {
     "cell_type": "code",
     "collapsed": false,
     "input": [
      "#Pandas is a data analysis package that will give us a convenient way to work with the tables\n",
      "from pandas import DataFrame, Series\n",
      "import pandas as pd\n",
      "\n",
      "import pandas.io.sql\n",
      "\n",
      "idandnames = pandas.io.sql.read_frame(\"\"\"select id, originalORSName from tblvariables\"\"\", con)\n",
      "idandnames[:10]\n",
      "newvar = DataFrame({\"varname\": formatsdict.keys()}) "
     ],
     "language": "python",
     "metadata": {},
     "outputs": [],
     "prompt_number": 13
    },
    {
     "cell_type": "code",
     "collapsed": false,
     "input": [
      "#joined is a list of all the variables and their corresponding ids.  \n",
      "\n",
      "joined = newvar\\\n",
      ".merge(idandnames, left_on = \"varname\", right_on = \"originalORSName\", how=\"left\")"
     ],
     "language": "python",
     "metadata": {},
     "outputs": [],
     "prompt_number": 42
    },
    {
     "cell_type": "code",
     "collapsed": false,
     "input": [
      "#Need to check whether we have any new variables - that is variables for which we have a format, but aren't yet in the meta database.\n",
      "\n",
      "#Filter out where the id is null\n",
      "filter = Series.notnull(joined.loc[:,\"id\"])\n",
      "joined = joined[filter]"
     ],
     "language": "python",
     "metadata": {},
     "outputs": [],
     "prompt_number": 43
    },
    {
     "cell_type": "code",
     "collapsed": false,
     "input": [
      "#Iteratre through the rows updating the tables of the metadatabase\n",
      "\n",
      "def deleteCurrentLinkBetweenVarAndFormat(id):\n",
      "    #delete the present link between this field and a format\n",
      "    DeleteSQL = \"delete from tblFieldFormats where fieldid = %s\" % id\n",
      "    SelectSQL = \"select * from tblFieldFormats where fieldid = %s\" % id\n",
      "    \n",
      "    rows = con.execute(SelectSQL).fetchall()\n",
      "    #print len(rows)\n",
      "    \n",
      "    count = con.execute(DeleteSQL).rowcount\n",
      "    #print count\n",
      "    \n",
      "def addNewFormats(row):\n",
      "    pass\n",
      "\n",
      "def deleteOrphanedFormats()\n",
      "    \"\"\" \n",
      "    After we have deleted the link between the old formats and variables, there may be some format which\n",
      "    are no longer being used at all.  This function checks to see whether we have some formats\n",
      "    which are no longer associated with any varaibles.  If they are found, they are deleted \n",
      "    from the database.\n",
      "    \"\"\"\n",
      "\n",
      "\n",
      "#for each row in the table of new variables\n",
      "for row in joined.iterrows():\n",
      "    #grab the variable id and its name\n",
      "    id = int(row[1][\"id\"])\n",
      "    name = row[1][\"varname\"]\n",
      "    \n",
      "    deleteCurrentLinkBetweenVarAndFormat(id)\n",
      "    \n",
      "    addNewFormats(row)\n",
      "    \n",
      "\n",
      "    \n",
      "\n",
      "\n",
      "   \n",
      "    \n",
      "    \n",
      "\n",
      "#Commit these changes to the database\n",
      "con.commit()\n",
      "\n"
     ],
     "language": "python",
     "metadata": {},
     "outputs": [],
     "prompt_number": 46
    },
    {
     "cell_type": "code",
     "collapsed": false,
     "input": [
      "row = next(joined.iterrows())\n",
      "row"
     ],
     "language": "python",
     "metadata": {},
     "outputs": [
      {
       "metadata": {},
       "output_type": "pyout",
       "prompt_number": 49,
       "text": [
        "(0,\n",
        " varname            SEXQ6AI\n",
        "id                    3265\n",
        "originalORSName    SEXQ6AI\n",
        "Name: 0, dtype: object)"
       ]
      }
     ],
     "prompt_number": 49
    },
    {
     "cell_type": "code",
     "collapsed": false,
     "input": [
      "\n",
      "\n",
      "#Get the ID from this row\n",
      "id = int(row[1][\"id\"])\n",
      "name = row[1][\"varname\"]\n",
      "    \n",
      "#Need to create a new format associated with this variable\n",
      "#get the format\n",
      "dataList[name][\"format\"]\n",
      "\n",
      "#Use SQL to add this format to the meta database\n",
      "AddFormatSQL = \"\"\"\n",
      "Insert into tblFormats [(format, variableid, blah)] \n",
      "values ()\n",
      "\"\"\"\n",
      "\n",
      "#Need to get the new id that we've just added\n",
      "\n",
      "#Also need to add the detailed format\n",
      "\n",
      "for i in dataList[name][\"formatlist\"]:\n",
      "    AddDetailedFormatSQL = \"\"\"\n",
      "    Insrt into tblFormatDetails\n",
      "    [(formatid, variableid?, etc)]\n",
      "    values (i,)\n",
      "    \"\"\"\n",
      "    \n",
      "\n",
      "    \n",
      "    "
     ],
     "language": "python",
     "metadata": {},
     "outputs": [
      {
       "metadata": {},
       "output_type": "pyout",
       "prompt_number": 55,
       "text": [
        "[\"0 = '-'\",\n",
        " \"1 = 'Age'\",\n",
        " \"2 = 'Genuine remorse'\",\n",
        " \"3 = 'Offender responding well to existing order/sentence'\",\n",
        " \"4 = 'Offender can/is addressing needs/addiction'\",\n",
        " \"5 = 'Offender is main carer/has responsibilities'\",\n",
        " \"6 = 'Currently in, or prospects of work/training'\",\n",
        " \"7 = 'Loss of job or reputation'\",\n",
        " \"8 = 'Physical or mental illness'\",\n",
        " \"9 = 'Difficult/deprived background'\",\n",
        " \"10 = 'Offence out of character'\",\n",
        " \"11 = 'Co-operation with authorities'\",\n",
        " \"12 = 'Victim engaged in consensual sexual activity'\",\n",
        " \"13 = 'Reasonable belief that the victim was aged 16 or over'\",\n",
        " \"14 = 'Minimal contact'\",\n",
        " \"15 = 'Serving soldier'\",\n",
        " \"17 = 'Basis of plea'\",\n",
        " \"18 = 'Cry for help/wanted legal intervention/wanted a sentence'\",\n",
        " \"19 = 'Historic offence'\",\n",
        " \"20 = 'Involvement due to pressure/intimidation/coercion'\",\n",
        " \"21 = 'Is an addict'\",\n",
        " \"22 = 'Lack of premeditation/unplanned'\",\n",
        " \"23 = 'Lack of sophistication as to the nature of concealment/ incompetence/ highly likely to get caught'\",\n",
        " \"24 = 'Leniency requested by victim/victims family'\",\n",
        " \"25 = 'Long gap between offences/lived legally in-between reoffending'\",\n",
        " \"26 = 'No evidence of harm to victim'\",\n",
        " \"27 = 'Not sexually motivated'\",\n",
        " \"28 = 'Offender turned themselves in'\",\n",
        " \"29 = 'Offender''s vulnerability exploited'\",\n",
        " \"30 = 'Over the internet only'\",\n",
        " \"31 = 'Short duration of being involved in offence (only involved for a short time)'\",\n",
        " \"32 = 'Suffering stress/under pressure at time of offence/family problems at time of offence'\",\n",
        " \"33 = 'First custodial sentence'\",\n",
        " \"34 = 'Under the influence of alcohol at time of offence'\",\n",
        " \"35 = 'No dishonest intent/no intent to harm anyone/no illegal intent'\",\n",
        " \"36 = 'Isolated incident'\",\n",
        " \"37 = 'Subordinate role in group or gang/Peripheral involvement'\",\n",
        " \"38 = 'Lapse of time not fault of offender'\",\n",
        " \"39 = 'Improved home life/support system/personal circumstances'\",\n",
        " \"90 = 'Other factors'\",\n",
        " \"93 = 'No Factors stated'\",\n",
        " \"94 = 'Illegible'\",\n",
        " \"95 = 'Not Answered'\",\n",
        " \"99 = 'Not asked' ;\"]"
       ]
      }
     ],
     "prompt_number": 55
    },
    {
     "cell_type": "code",
     "collapsed": false,
     "input": [
      "dataList[dataList.keys()[0]]"
     ],
     "language": "python",
     "metadata": {},
     "outputs": [
      {
       "metadata": {},
       "output_type": "pyout",
       "prompt_number": 52,
       "text": [
        "{'format': \"0 = '-'\\n1 = 'Age'\\n2 = 'Genuine remorse'\\n3 = 'Offender responding well to existing order/sentence'\\n4 = 'Offender can/is addressing needs/addiction'\\n5 = 'Offender is main carer/has responsibilities'\\n6 = 'Currently in, or prospects of work/training'\\n7 = 'Loss of job or reputation'\\n8 = 'Physical or mental illness'\\n9 = 'Difficult/deprived background'\\n10 = 'Offence out of character'\\n11 = 'Co-operation with authorities'\\n12 = 'Victim engaged in consensual sexual activity'\\n13 = 'Reasonable belief that the victim was aged 16 or over'\\n14 = 'Minimal contact'\\n15 = 'Serving soldier'\\n17 = 'Basis of plea'\\n18 = 'Cry for help/wanted legal intervention/wanted a sentence'\\n19 = 'Historic offence'\\n20 = 'Involvement due to pressure/intimidation/coercion'\\n21 = 'Is an addict'\\n22 = 'Lack of premeditation/unplanned'\\n23 = 'Lack of sophistication as to the nature of concealment/ incompetence/ highly likely to get caught'\\n24 = 'Leniency requested by victim/victims family'\\n25 = 'Long gap between offences/lived legally in-between reoffending'\\n26 = 'No evidence of harm to victim'\\n27 = 'Not sexually motivated'\\n28 = 'Offender turned themselves in'\\n29 = 'Offender''s vulnerability exploited'\\n30 = 'Over the internet only'\\n31 = 'Short duration of being involved in offence (only involved for a short time)'\\n32 = 'Suffering stress/under pressure at time of offence/family problems at time of offence'\\n33 = 'First custodial sentence'\\n34 = 'Under the influence of alcohol at time of offence'\\n35 = 'No dishonest intent/no intent to harm anyone/no illegal intent'\\n36 = 'Isolated incident'\\n37 = 'Subordinate role in group or gang/Peripheral involvement'\\n38 = 'Lapse of time not fault of offender'\\n39 = 'Improved home life/support system/personal circumstances'\\n90 = 'Other factors'\\n93 = 'No Factors stated'\\n94 = 'Illegible'\\n95 = 'Not Answered'\\n99 = 'Not asked' ;\",\n",
        " 'formatlist': [\"0 = '-'\",\n",
        "  \"1 = 'Age'\",\n",
        "  \"2 = 'Genuine remorse'\",\n",
        "  \"3 = 'Offender responding well to existing order/sentence'\",\n",
        "  \"4 = 'Offender can/is addressing needs/addiction'\",\n",
        "  \"5 = 'Offender is main carer/has responsibilities'\",\n",
        "  \"6 = 'Currently in, or prospects of work/training'\",\n",
        "  \"7 = 'Loss of job or reputation'\",\n",
        "  \"8 = 'Physical or mental illness'\",\n",
        "  \"9 = 'Difficult/deprived background'\",\n",
        "  \"10 = 'Offence out of character'\",\n",
        "  \"11 = 'Co-operation with authorities'\",\n",
        "  \"12 = 'Victim engaged in consensual sexual activity'\",\n",
        "  \"13 = 'Reasonable belief that the victim was aged 16 or over'\",\n",
        "  \"14 = 'Minimal contact'\",\n",
        "  \"15 = 'Serving soldier'\",\n",
        "  \"17 = 'Basis of plea'\",\n",
        "  \"18 = 'Cry for help/wanted legal intervention/wanted a sentence'\",\n",
        "  \"19 = 'Historic offence'\",\n",
        "  \"20 = 'Involvement due to pressure/intimidation/coercion'\",\n",
        "  \"21 = 'Is an addict'\",\n",
        "  \"22 = 'Lack of premeditation/unplanned'\",\n",
        "  \"23 = 'Lack of sophistication as to the nature of concealment/ incompetence/ highly likely to get caught'\",\n",
        "  \"24 = 'Leniency requested by victim/victims family'\",\n",
        "  \"25 = 'Long gap between offences/lived legally in-between reoffending'\",\n",
        "  \"26 = 'No evidence of harm to victim'\",\n",
        "  \"27 = 'Not sexually motivated'\",\n",
        "  \"28 = 'Offender turned themselves in'\",\n",
        "  \"29 = 'Offender''s vulnerability exploited'\",\n",
        "  \"30 = 'Over the internet only'\",\n",
        "  \"31 = 'Short duration of being involved in offence (only involved for a short time)'\",\n",
        "  \"32 = 'Suffering stress/under pressure at time of offence/family problems at time of offence'\",\n",
        "  \"33 = 'First custodial sentence'\",\n",
        "  \"34 = 'Under the influence of alcohol at time of offence'\",\n",
        "  \"35 = 'No dishonest intent/no intent to harm anyone/no illegal intent'\",\n",
        "  \"36 = 'Isolated incident'\",\n",
        "  \"37 = 'Subordinate role in group or gang/Peripheral involvement'\",\n",
        "  \"38 = 'Lapse of time not fault of offender'\",\n",
        "  \"39 = 'Improved home life/support system/personal circumstances'\",\n",
        "  \"90 = 'Other factors'\",\n",
        "  \"93 = 'No Factors stated'\",\n",
        "  \"94 = 'Illegible'\",\n",
        "  \"95 = 'Not Answered'\",\n",
        "  \"99 = 'Not asked' ;\"],\n",
        " 'variables': ['SEXQ6AI',\n",
        "  'SEXQ6AM',\n",
        "  'SEXQ6AL',\n",
        "  'SEXQ6AE',\n",
        "  'SEXQ6AD',\n",
        "  'SEXQ6AF',\n",
        "  'SEXQ6H',\n",
        "  'SEXQ6L',\n",
        "  'SEXQ6K',\n",
        "  'SEXQ6F',\n",
        "  'SEXQ6C',\n",
        "  'SEXQ6X',\n",
        "  'SEXQ6S',\n",
        "  'SEXQ6N',\n",
        "  'SEXQ6I',\n",
        "  'SEXQ6J',\n",
        "  'SEXQ6E',\n",
        "  'SEXQ6D',\n",
        "  'SEXQ6G',\n",
        "  'SEXQ6A',\n",
        "  'SEXQ6B',\n",
        "  'SEXQ6CO',\n",
        "  'SEXQ6CL']}"
       ]
      }
     ],
     "prompt_number": 52
    },
    {
     "cell_type": "code",
     "collapsed": false,
     "input": [],
     "language": "python",
     "metadata": {},
     "outputs": []
    }
   ],
   "metadata": {}
  }
 ]
}