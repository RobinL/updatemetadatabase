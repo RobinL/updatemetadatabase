{
 "metadata": {
  "name": ""
 },
 "nbformat": 3,
 "nbformat_minor": 0,
 "worksheets": [
  {
   "cells": [
    {
     "cell_type": "markdown",
     "metadata": {},
     "source": [
      "This program updates the information on variable formats which is contained in the meta database\n",
      "\n",
      "It takes as its input the raw text (.sas) files that are outputted by SPSS when you export the raw ORS datasets and ask it to output the SAS formats.\n",
      "\n",
      "It then interfaces with the meta database to detect which variables we have new formats for.\n",
      "\n",
      "It creates new entries for any formats it finds in the raw text (.sas) files.\n",
      "\n",
      "Finally it cleans up by removing any old formats which have been remapped to the newly created formats."
     ]
    },
    {
     "cell_type": "code",
     "collapsed": false,
     "input": [
      "#Import a python module that will allow us to interface with a Microsoft Access database \n",
      "import pyodbc"
     ],
     "language": "python",
     "metadata": {},
     "outputs": [],
     "prompt_number": 172
    },
    {
     "cell_type": "code",
     "collapsed": false,
     "input": [
      "#Read in the raw .sas file\n",
      "rawFormat = open(\"rawformat.sas\", \"r\")\n"
     ],
     "language": "python",
     "metadata": {},
     "outputs": [],
     "prompt_number": 173
    },
    {
     "cell_type": "code",
     "collapsed": false,
     "input": [
      "#Read lines into Python list (an array), and close file \n",
      "lines = rawFormat.readlines()\n",
      "lines = [line.strip() for line in lines]\n",
      "rawFormat.close()"
     ],
     "language": "python",
     "metadata": {},
     "outputs": [],
     "prompt_number": 174
    },
    {
     "cell_type": "code",
     "collapsed": false,
     "input": [
      "# Strip out the first lines of the file (until we see 'value')\n",
      "import re\n",
      "\n",
      "valuepat = re.compile(\"^value\" ,re.IGNORECASE)\n",
      "\n",
      "while True:\n",
      "    if valuepat.match(lines[0]):\n",
      "        break\n",
      "    del lines[0]\n",
      "\n",
      "#Strip out the end of the file (after we see 'proc datasets')\n",
      "endids = [i for i, line in enumerate(lines) if re.search(\"proc datasets\", line)]\n",
      "\n",
      "#Slice list and then strip out any lines which are blank\n",
      "lines = lines[:endids[0]]\n",
      "lines = [line for line in lines if line]\n"
     ],
     "language": "python",
     "metadata": {},
     "outputs": [],
     "prompt_number": 175
    },
    {
     "cell_type": "code",
     "collapsed": false,
     "input": [
      "values = [line for line in lines if  valuepat.match(line)]"
     ],
     "language": "python",
     "metadata": {},
     "outputs": [],
     "prompt_number": 176
    },
    {
     "cell_type": "code",
     "collapsed": false,
     "input": [
      "formatsdict = {}\n",
      "\n",
      "for line in lines:\n",
      "    if valuepat.match(line):\n",
      "        thisvalue = re.match(\"(value\\s+)([^']*)\", line).group(2)\n",
      "        formatsdict[thisvalue] = []\n",
      "    else:\n",
      "        formatsdict[thisvalue].append(line)  \n",
      "    "
     ],
     "language": "python",
     "metadata": {},
     "outputs": [],
     "prompt_number": 177
    },
    {
     "cell_type": "code",
     "collapsed": false,
     "input": [
      "#The keys contain the variables where we're giubg to remove the existng formats and replace them with the new ones\n",
      "formatsdict.keys()[1]"
     ],
     "language": "python",
     "metadata": {},
     "outputs": [
      {
       "metadata": {},
       "output_type": "pyout",
       "prompt_number": 191,
       "text": [
        "'TDFQ5AA'"
       ]
      }
     ],
     "prompt_number": 191
    },
    {
     "cell_type": "code",
     "collapsed": false,
     "input": [
      "#Need to find out which of the dictionaries contain exactly the same string\n"
     ],
     "language": "python",
     "metadata": {},
     "outputs": []
    }
   ],
   "metadata": {}
  }
 ]
}