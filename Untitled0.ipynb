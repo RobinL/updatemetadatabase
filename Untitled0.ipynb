{
 "metadata": {
  "name": ""
 },
 "nbformat": 3,
 "nbformat_minor": 0,
 "worksheets": [
  {
   "cells": [
    {
     "cell_type": "code",
     "collapsed": false,
     "input": [
      "import pandas as pd\n",
      "import numpy as np\n",
      "d = pd.read_json('{\"varname\":{\"0\":\"SEXQ6AI\",\"1\":\"TDFQ5AA\",\"2\":\"TDFQ5AB\",\"3\":\"TDFQ5AC\",\"4\":\"TDFQ5AD\"},\"parentformat\":{\"0\":\"SEXQ6CL\",\"1\":\"TDFQ5AD\",\"2\":\"TDFQ5AD\",\"3\":\"TDFQ5AD\",\"4\":\"TDFQ5AD\"},\"id\":{\"0\":3265.0,\"1\":1532.0,\"2\":1533.0,\"3\":1534.0,\"4\":1535.0},\"originalORSName\":{\"0\":\"SEXQ6AI\",\"1\":\"TDFQ5AA\",\"2\":\"TDFQ5AB\",\"3\":\"TDFQ5AC\",\"4\":\"TDFQ5AD\"}}')"
     ],
     "language": "python",
     "metadata": {},
     "outputs": [],
     "prompt_number": 32
    },
    {
     "cell_type": "code",
     "collapsed": false,
     "input": [
      "d[\"formatid\"] = np.nan\n",
      "d.loc[0,\"formatid\"] = 1\n",
      "d"
     ],
     "language": "python",
     "metadata": {},
     "outputs": [
      {
       "html": [
        "<div style=\"max-height:1000px;max-width:1500px;overflow:auto;\">\n",
        "<table border=\"1\" class=\"dataframe\">\n",
        "  <thead>\n",
        "    <tr style=\"text-align: right;\">\n",
        "      <th></th>\n",
        "      <th>id</th>\n",
        "      <th>originalORSName</th>\n",
        "      <th>parentformat</th>\n",
        "      <th>varname</th>\n",
        "      <th>formatid</th>\n",
        "    </tr>\n",
        "  </thead>\n",
        "  <tbody>\n",
        "    <tr>\n",
        "      <th>0</th>\n",
        "      <td> 3265</td>\n",
        "      <td> SEXQ6AI</td>\n",
        "      <td> SEXQ6CL</td>\n",
        "      <td> SEXQ6AI</td>\n",
        "      <td>  1</td>\n",
        "    </tr>\n",
        "    <tr>\n",
        "      <th>1</th>\n",
        "      <td> 1532</td>\n",
        "      <td> TDFQ5AA</td>\n",
        "      <td> TDFQ5AD</td>\n",
        "      <td> TDFQ5AA</td>\n",
        "      <td>NaN</td>\n",
        "    </tr>\n",
        "    <tr>\n",
        "      <th>2</th>\n",
        "      <td> 1533</td>\n",
        "      <td> TDFQ5AB</td>\n",
        "      <td> TDFQ5AD</td>\n",
        "      <td> TDFQ5AB</td>\n",
        "      <td>NaN</td>\n",
        "    </tr>\n",
        "    <tr>\n",
        "      <th>3</th>\n",
        "      <td> 1534</td>\n",
        "      <td> TDFQ5AC</td>\n",
        "      <td> TDFQ5AD</td>\n",
        "      <td> TDFQ5AC</td>\n",
        "      <td>NaN</td>\n",
        "    </tr>\n",
        "    <tr>\n",
        "      <th>4</th>\n",
        "      <td> 1535</td>\n",
        "      <td> TDFQ5AD</td>\n",
        "      <td> TDFQ5AD</td>\n",
        "      <td> TDFQ5AD</td>\n",
        "      <td>NaN</td>\n",
        "    </tr>\n",
        "  </tbody>\n",
        "</table>\n",
        "</div>"
       ],
       "metadata": {},
       "output_type": "pyout",
       "prompt_number": 47,
       "text": [
        "     id originalORSName parentformat  varname  formatid\n",
        "0  3265         SEXQ6AI      SEXQ6CL  SEXQ6AI         1\n",
        "1  1532         TDFQ5AA      TDFQ5AD  TDFQ5AA       NaN\n",
        "2  1533         TDFQ5AB      TDFQ5AD  TDFQ5AB       NaN\n",
        "3  1534         TDFQ5AC      TDFQ5AD  TDFQ5AC       NaN\n",
        "4  1535         TDFQ5AD      TDFQ5AD  TDFQ5AD       NaN"
       ]
      }
     ],
     "prompt_number": 47
    },
    {
     "cell_type": "code",
     "collapsed": false,
     "input": [
      "d.loc[d[\"originalORSName\"]==\"TDFQ5AA\", \"formatid\"] = 20"
     ],
     "language": "python",
     "metadata": {},
     "outputs": [],
     "prompt_number": 56
    },
    {
     "cell_type": "code",
     "collapsed": false,
     "input": [
      "d[d[\"originalORSName\"]==\"TDFQ5AA\"].index[0]"
     ],
     "language": "python",
     "metadata": {},
     "outputs": [
      {
       "metadata": {},
       "output_type": "pyout",
       "prompt_number": 46,
       "text": [
        "1"
       ]
      }
     ],
     "prompt_number": 46
    },
    {
     "cell_type": "code",
     "collapsed": false,
     "input": [
      "d.loc[1,\"formatid\"] = 10"
     ],
     "language": "python",
     "metadata": {},
     "outputs": [],
     "prompt_number": 52
    },
    {
     "cell_type": "code",
     "collapsed": false,
     "input": [
      "d"
     ],
     "language": "python",
     "metadata": {},
     "outputs": [
      {
       "html": [
        "<div style=\"max-height:1000px;max-width:1500px;overflow:auto;\">\n",
        "<table border=\"1\" class=\"dataframe\">\n",
        "  <thead>\n",
        "    <tr style=\"text-align: right;\">\n",
        "      <th></th>\n",
        "      <th>id</th>\n",
        "      <th>originalORSName</th>\n",
        "      <th>parentformat</th>\n",
        "      <th>varname</th>\n",
        "      <th>formatid</th>\n",
        "    </tr>\n",
        "  </thead>\n",
        "  <tbody>\n",
        "    <tr>\n",
        "      <th>0</th>\n",
        "      <td> 3265</td>\n",
        "      <td> SEXQ6AI</td>\n",
        "      <td> SEXQ6CL</td>\n",
        "      <td> SEXQ6AI</td>\n",
        "      <td>  1</td>\n",
        "    </tr>\n",
        "    <tr>\n",
        "      <th>1</th>\n",
        "      <td> 1532</td>\n",
        "      <td> TDFQ5AA</td>\n",
        "      <td> TDFQ5AD</td>\n",
        "      <td> TDFQ5AA</td>\n",
        "      <td> 20</td>\n",
        "    </tr>\n",
        "    <tr>\n",
        "      <th>2</th>\n",
        "      <td> 1533</td>\n",
        "      <td> TDFQ5AB</td>\n",
        "      <td> TDFQ5AD</td>\n",
        "      <td> TDFQ5AB</td>\n",
        "      <td>NaN</td>\n",
        "    </tr>\n",
        "    <tr>\n",
        "      <th>3</th>\n",
        "      <td> 1534</td>\n",
        "      <td> TDFQ5AC</td>\n",
        "      <td> TDFQ5AD</td>\n",
        "      <td> TDFQ5AC</td>\n",
        "      <td>NaN</td>\n",
        "    </tr>\n",
        "    <tr>\n",
        "      <th>4</th>\n",
        "      <td> 1535</td>\n",
        "      <td> TDFQ5AD</td>\n",
        "      <td> TDFQ5AD</td>\n",
        "      <td> TDFQ5AD</td>\n",
        "      <td>NaN</td>\n",
        "    </tr>\n",
        "  </tbody>\n",
        "</table>\n",
        "</div>"
       ],
       "metadata": {},
       "output_type": "pyout",
       "prompt_number": 57,
       "text": [
        "     id originalORSName parentformat  varname  formatid\n",
        "0  3265         SEXQ6AI      SEXQ6CL  SEXQ6AI         1\n",
        "1  1532         TDFQ5AA      TDFQ5AD  TDFQ5AA        20\n",
        "2  1533         TDFQ5AB      TDFQ5AD  TDFQ5AB       NaN\n",
        "3  1534         TDFQ5AC      TDFQ5AD  TDFQ5AC       NaN\n",
        "4  1535         TDFQ5AD      TDFQ5AD  TDFQ5AD       NaN"
       ]
      }
     ],
     "prompt_number": 57
    },
    {
     "cell_type": "code",
     "collapsed": false,
     "input": [
      "import shutil\n",
      "\n",
      "src = r\"C:\\Users\\Office Samsung\\Documents\\IPython Notebooks\\BU\\metadatabase.mdb\"\n",
      "dst = r\"C:\\Users\\Office Samsung\\Documents\\IPython Notebooks\\metadatabase.mdb\"\n",
      "shutil.copy(src, dst)"
     ],
     "language": "python",
     "metadata": {},
     "outputs": [],
     "prompt_number": 58
    },
    {
     "cell_type": "code",
     "collapsed": false,
     "input": [],
     "language": "python",
     "metadata": {},
     "outputs": []
    }
   ],
   "metadata": {}
  }
 ]
}