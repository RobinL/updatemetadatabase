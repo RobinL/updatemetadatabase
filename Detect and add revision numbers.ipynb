{
 "metadata": {
  "name": ""
 },
 "nbformat": 3,
 "nbformat_minor": 0,
 "worksheets": [
  {
   "cells": [
    {
     "cell_type": "code",
     "collapsed": false,
     "input": [
      "#Make a copy of the database so if we mess it up it doesn't matter\n",
      "import shutil\n",
      "import os\n",
      "\n",
      "src =r\"bu/metadatabase.mdb\"\n",
      "dst = os.path.join(os.getcwd(),r\"metadatabase.mdb\")\n",
      "shutil.copy(src, dst)"
     ],
     "language": "python",
     "metadata": {},
     "outputs": [
      {
       "metadata": {},
       "output_type": "pyout",
       "prompt_number": 9,
       "text": [
        "'C:\\\\Users\\\\Robin-Laptop\\\\Documents\\\\IPython Notebooks\\\\updatemetadatabase\\\\metadatabase.mdb'"
       ]
      }
     ],
     "prompt_number": 9
    },
    {
     "cell_type": "code",
     "collapsed": false,
     "input": [
      "#Connect to the metadatabase using pyodbc\n",
      "import os\n",
      "import pyodbc\n",
      "import re\n",
      "dst = os.path.join(os.getcwd(),r\"metadatabase.mdb\")\n",
      "MDB = dst\n",
      "DRV = '{Microsoft Access Driver (*.mdb, *.accdb)}'\n",
      "\n",
      "con = pyodbc.connect('DRIVER=%s;DBQ=%s;' % (DRV,MDB))\n",
      "cur = con.cursor()"
     ],
     "language": "python",
     "metadata": {},
     "outputs": [],
     "prompt_number": 10
    },
    {
     "cell_type": "code",
     "collapsed": false,
     "input": [
      "import pandas as pd\n",
      "import pandas.io.sql as sql \n",
      "pd.set_option('display.height', 500)\n",
      "pd.set_option('display.max_rows', 500)\n",
      "pd.set_option('display.max_colwidth', 500)"
     ],
     "language": "python",
     "metadata": {},
     "outputs": [],
     "prompt_number": 11
    },
    {
     "cell_type": "code",
     "collapsed": false,
     "input": [
      "variables = sql.read_frame('select * from tblVariables', con)"
     ],
     "language": "python",
     "metadata": {},
     "outputs": [],
     "prompt_number": 12
    },
    {
     "cell_type": "code",
     "collapsed": false,
     "input": [
      "sqlstatement  = \"\"\"\n",
      "UPDATE tblVariables\n",
      "SET RevisionNum = '_1'\n",
      "WHERE right(FinalName,2) = '_1'\n",
      "\"\"\"\n",
      "\n",
      "cur.execute(sqlstatement)\n",
      "cur.commit()\n",
      "cur.rowcount"
     ],
     "language": "python",
     "metadata": {},
     "outputs": [
      {
       "metadata": {},
       "output_type": "pyout",
       "prompt_number": 13,
       "text": [
        "5"
       ]
      }
     ],
     "prompt_number": 13
    },
    {
     "cell_type": "code",
     "collapsed": false,
     "input": [
      "con.close()"
     ],
     "language": "python",
     "metadata": {},
     "outputs": [],
     "prompt_number": 14
    },
    {
     "cell_type": "code",
     "collapsed": false,
     "input": [],
     "language": "python",
     "metadata": {},
     "outputs": [],
     "prompt_number": 14
    },
    {
     "cell_type": "code",
     "collapsed": false,
     "input": [],
     "language": "python",
     "metadata": {},
     "outputs": [],
     "prompt_number": 14
    }
   ],
   "metadata": {}
  }
 ]
}